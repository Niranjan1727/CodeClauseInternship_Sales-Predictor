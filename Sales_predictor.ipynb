{
  "nbformat": 4,
  "nbformat_minor": 0,
  "metadata": {
    "colab": {
      "provenance": []
    },
    "kernelspec": {
      "name": "python3",
      "display_name": "Python 3"
    },
    "language_info": {
      "name": "python"
    }
  },
  "cells": [
    {
      "cell_type": "code",
      "execution_count": null,
      "metadata": {
        "colab": {
          "base_uri": "https://localhost:8080/"
        },
        "id": "OAj6gvbR_UZZ",
        "outputId": "1e9eecac-25a3-479c-de46-d77387f274c0"
      },
      "outputs": [
        {
          "output_type": "stream",
          "name": "stdout",
          "text": [
            "Mean Squared Error: 6627.61\n",
            "Predicted sales for $5.00 advertising budget: 146.04\n",
            "Predicted sales for $8.00 advertising budget: 146.04\n",
            "Predicted sales for $9.00 advertising budget: 146.04\n"
          ]
        }
      ],
      "source": [
        "import pandas as pd\n",
        "from sklearn.model_selection import train_test_split\n",
        "from sklearn.tree import DecisionTreeRegressor\n",
        "from sklearn.metrics import mean_squared_error\n",
        "\n",
        "# Load the dataset from CSV\n",
        "dataset_path = \"/content/train.csv\"  # Replace with your dataset file path\n",
        "data = pd.read_csv(dataset_path)\n",
        "\n",
        "# Assuming your dataset has 'advertising_budget' as input feature and 'sales' as target\n",
        "X = data[['Item_Visibility']].values\n",
        "y = data['Item_MRP'].values\n",
        "\n",
        "# Split the data into training and testing sets\n",
        "X_train, X_test, y_train, y_test = train_test_split(X, y, test_size=0.2, random_state=42)\n",
        "\n",
        "# Create and train the linear regression model\n",
        "model = DecisionTreeRegressor(random_state=10)\n",
        "model.fit(X_train, y_train)\n",
        "\n",
        "# Make predictions on the test set\n",
        "y_pred = model.predict(X_test)\n",
        "\n",
        "# Calculate Mean Squared Error (MSE) to evaluate the model\n",
        "mse = mean_squared_error(y_test, y_pred)\n",
        "print(f\"Mean Squared Error: {mse:.2f}\")\n",
        "\n",
        "# Input new advertising budgets to predict sales\n",
        "new_budgets = [[5.0], [8.0], [9.0]]  # Replace with your input data\n",
        "predicted_sales = model.predict(new_budgets)\n",
        "for budget, sales in zip(new_budgets, predicted_sales):\n",
        "    print(f\"Predicted sales for ${budget[0]:.2f} advertising budget: {sales:.2f}\")\n"
      ]
    },
    {
      "cell_type": "code",
      "source": [],
      "metadata": {
        "id": "m7I-Z343A90q"
      },
      "execution_count": null,
      "outputs": []
    }
  ]
}